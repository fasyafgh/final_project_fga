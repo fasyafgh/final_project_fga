{
  "nbformat": 4,
  "nbformat_minor": 0,
  "metadata": {
    "colab": {
      "name": "Sesi_17_Flask_x_Google_Colab_Part1of2_CSV_to_SQLite3.ipynb",
      "provenance": [],
      "collapsed_sections": []
    },
    "kernelspec": {
      "name": "python3",
      "display_name": "Python 3"
    }
  },
  "cells": [
    {
      "cell_type": "markdown",
      "metadata": {
        "id": "LaQfnCauxig4"
      },
      "source": [
        "![]( https://docs.google.com/uc?export=download&id=1oKIi5t0GlSKAoPTIt1f-DcOu0GcYHDD4)"
      ]
    },
    {
      "cell_type": "markdown",
      "metadata": {
        "id": "3NamdLPcOfdi"
      },
      "source": [
        "### Intro\n"
      ]
    },
    {
      "cell_type": "code",
      "metadata": {
        "colab": {
          "base_uri": "https://localhost:8080/"
        },
        "id": "kI6bBdJRFriD",
        "outputId": "e4c886d7-fd2c-47cd-9d87-b17bb77af50c"
      },
      "source": [
        "# FGA Big Data Using Python Kelas B \n",
        "# =====================================================================\n",
        "# Kolaborasi Instruktur FILKOM x FMIPA UB 2021\n",
        "# Di Bawah Naungan Kominfo Pusat x Cisco\n",
        "# =====================================================================\n",
        "# Instruktur: Imam Cholissodin, S.Si., M.Kom. \n",
        "# Asisten: Yonas Asmara\n",
        "\n",
        "from google.colab import drive\n",
        "drive.mount('/content/drive')"
      ],
      "execution_count": 1,
      "outputs": [
        {
          "output_type": "stream",
          "text": [
            "Mounted at /content/drive\n"
          ],
          "name": "stdout"
        }
      ]
    },
    {
      "cell_type": "code",
      "metadata": {
        "id": "pRNMBgIcF0_x",
        "colab": {
          "base_uri": "https://localhost:8080/"
        },
        "outputId": "1c74120a-a122-46a2-fcfa-ce3801bdcc96"
      },
      "source": [
        "import os\n",
        "os.chdir(\"/content/drive/My Drive\")\n",
        "path = \"Cisco Big Data Using Python 2021/FGA Big Data Using Python - Kelas B - utk Peserta/Sesi 1 - 25 Python\"\n",
        "if not os.path.exists(path):\n",
        "    os.makedirs(path)\n",
        "os.chdir(\"/content/drive/My Drive/Cisco Big Data Using Python 2021/FGA Big Data Using Python - Kelas B - utk Peserta/Sesi 1 - 25 Python\")\n",
        "if not os.path.exists(\"images\"):\n",
        "  !wget --load-cookies /tmp/cookies.txt \"https://docs.google.com/uc?export=download&confirm=$(wget --quiet --save-cookies /tmp/cookies.txt --keep-session-cookies --no-check-certificate 'https://docs.google.com/uc?export=download&id=1-A9hoqmtpKWBAu_QjyqUxpcuBXkJ-Gk8' -O- | sed -rn 's/.*confirm=([0-9A-Za-z_]+).*/\\1\\n/p')&id=1-A9hoqmtpKWBAu_QjyqUxpcuBXkJ-Gk8\" -O 'images.tar' && rm -rf /tmp/cookies.txt\n",
        "  !tar -xv -C './' -f './images.tar'\n",
        "\n",
        "!pwd\n",
        "!ls -l -a --block-size=K"
      ],
      "execution_count": 2,
      "outputs": [
        {
          "output_type": "stream",
          "text": [
            "/content/drive/My Drive/Cisco Big Data Using Python 2021/FGA Big Data Using Python - Kelas B - utk Peserta/Sesi 1 - 25 Python\n",
            "total 728K\n",
            "-rw------- 1 root root   1K Jul 23 01:59 aritmatika.py\n",
            "-rw------- 1 root root   1K Aug  6 02:02 Data_Generate_Reg.csv\n",
            "drwx------ 2 root root   4K Aug  4 01:59 flask-sqlite\n",
            "drwx------ 2 root root   4K Jul 20 09:59 images\n",
            "-rw------- 1 root root 570K Jul 23 01:19 images.tar\n",
            "drwx------ 2 root root   4K Jul 23 02:05 LATIHAN_PYTHON\n",
            "drwx------ 2 root root   4K Jul 23 01:52 __pycache__\n",
            "-rw------- 1 root root 141K Aug  9 02:16 PySpark_SOM_by_Imam_Cholissodin_On_Colab.ipynb\n"
          ],
          "name": "stdout"
        }
      ]
    },
    {
      "cell_type": "code",
      "metadata": {
        "id": "wA8w1-peF3d1"
      },
      "source": [
        "os.chdir(\"/content/drive/My Drive/Cisco Big Data Using Python 2021/FGA Big Data Using Python - Kelas B - utk Peserta/Sesi 1 - 25 Python/flask-sqlite/csv2sqlite\")"
      ],
      "execution_count": 3,
      "outputs": []
    },
    {
      "cell_type": "code",
      "metadata": {
        "colab": {
          "base_uri": "https://localhost:8080/"
        },
        "id": "ILDDxKwx5OWa",
        "outputId": "78b64a86-4189-4e25-cc15-772f16301d3f"
      },
      "source": [
        "!pwd"
      ],
      "execution_count": 4,
      "outputs": [
        {
          "output_type": "stream",
          "text": [
            "/content/drive/My Drive/Cisco Big Data Using Python 2021/FGA Big Data Using Python - Kelas B - utk Peserta/Sesi 1 - 25 Python/flask-sqlite/csv2sqlite\n"
          ],
          "name": "stdout"
        }
      ]
    },
    {
      "cell_type": "code",
      "metadata": {
        "id": "3xzFcTDJQZ5D",
        "colab": {
          "base_uri": "https://localhost:8080/"
        },
        "outputId": "dbf2b2ac-b5c4-419d-a41a-5d770d51f282"
      },
      "source": [
        "!pip install db-sqlite3"
      ],
      "execution_count": 5,
      "outputs": [
        {
          "output_type": "stream",
          "text": [
            "Collecting db-sqlite3\n",
            "  Downloading db-sqlite3-0.0.1.tar.gz (1.4 kB)\n",
            "Collecting db\n",
            "  Downloading db-0.1.1.tar.gz (3.4 kB)\n",
            "Collecting antiorm\n",
            "  Downloading antiorm-1.2.1.tar.gz (171 kB)\n",
            "\u001b[K     |████████████████████████████████| 171 kB 5.0 MB/s \n",
            "\u001b[?25hBuilding wheels for collected packages: db-sqlite3, db, antiorm\n",
            "  Building wheel for db-sqlite3 (setup.py) ... \u001b[?25l\u001b[?25hdone\n",
            "  Created wheel for db-sqlite3: filename=db_sqlite3-0.0.1-py3-none-any.whl size=1793 sha256=911a857d70eda6423c8376aea91296e3e3b836557c9ff5832afe95c44b65a777\n",
            "  Stored in directory: /root/.cache/pip/wheels/02/38/d5/2f54461050571bf5330fee2a37ab1c9b5e7540b0572f1acdab\n",
            "  Building wheel for db (setup.py) ... \u001b[?25l\u001b[?25hdone\n",
            "  Created wheel for db: filename=db-0.1.1-py3-none-any.whl size=3893 sha256=a02dd9507bb8e7197521516d9b20e23a7a9ef0c5a222aa1527d5ddad4fce2002\n",
            "  Stored in directory: /root/.cache/pip/wheels/8e/97/82/741d2b360507411ec233d0280d7371faa94b03bde834e4a9be\n",
            "  Building wheel for antiorm (setup.py) ... \u001b[?25l\u001b[?25hdone\n",
            "  Created wheel for antiorm: filename=antiorm-1.2.1-py3-none-any.whl size=31678 sha256=3fd66c0e9c41481de0e034de2ec46ce88fdc1fd3f49dd661cdf674782ccd855d\n",
            "  Stored in directory: /root/.cache/pip/wheels/c5/43/70/e9729370cfff40c49d3e3d05377d54b3ecd71f64e62341ea80\n",
            "Successfully built db-sqlite3 db antiorm\n",
            "Installing collected packages: antiorm, db, db-sqlite3\n",
            "Successfully installed antiorm-1.2.1 db-0.1.1 db-sqlite3-0.0.1\n"
          ],
          "name": "stdout"
        }
      ]
    },
    {
      "cell_type": "markdown",
      "metadata": {
        "id": "pWp-MxKVMKYh"
      },
      "source": [
        "### Create Tables in Database\n"
      ]
    },
    {
      "cell_type": "code",
      "metadata": {
        "id": "G6sqzP_tJIEe"
      },
      "source": [
        "import pandas as pd\n",
        "import sqlite3"
      ],
      "execution_count": 28,
      "outputs": []
    },
    {
      "cell_type": "code",
      "metadata": {
        "id": "mlehKdxUJSz-",
        "colab": {
          "base_uri": "https://localhost:8080/"
        },
        "outputId": "0c36799d-c92f-495d-de56-0a25d45a2ecd"
      },
      "source": [
        "#connecting with the database.\n",
        "db = sqlite3.connect(\"fga_big_data.db\")\n",
        "db.execute(\"drop table if exists dataset\") \n",
        "db.execute(\"drop table if exists user\")\n",
        "db.execute(\"drop table if exists transactions\")\n",
        "try:\n",
        "  db.execute(\"create table dataset(Name text, Date datetime, Mobile text,Mail text)\")\n",
        "  db.execute(\"create table user(id integer primary key, Mail text, Password text, Name text, Level text)\")\n",
        "  db.execute(\"create table transaction(TransactionId integer primary key, InvoiceNo text, StockCode text, Description text, Quantity integer, InvoiceDate timestamp, UnitPrice double, CustomerID text, Country text)\")\n",
        "except:\n",
        "  print(\"Already table existed !!\")"
      ],
      "execution_count": 29,
      "outputs": [
        {
          "output_type": "stream",
          "text": [
            "Already table existed !!\n"
          ],
          "name": "stdout"
        }
      ]
    },
    {
      "cell_type": "markdown",
      "metadata": {
        "id": "2A-aX3ZhMWSf"
      },
      "source": [
        "### Insert Data to Tables: dataset and user\n"
      ]
    },
    {
      "cell_type": "code",
      "metadata": {
        "id": "CMZAQq2UJdGM"
      },
      "source": [
        "db_login = sqlite3.connect(\"fga_big_data.db\")"
      ],
      "execution_count": 30,
      "outputs": []
    },
    {
      "cell_type": "code",
      "metadata": {
        "id": "6wWnSqtNKXUq"
      },
      "source": [
        "# Coba membuat 1 data utk tabel dataset, lalu dimasukkan dalam fga_big_data.db\n",
        "Date = date.today().strftime(\"%d-%m-%Y\")\n",
        "Name = \"Big Data Using Python\"\n",
        "Mobile = \"5434534\"\n",
        "Mail = \"fga_big_data2@python.com\"\n",
        "\n",
        "# Coba membuat 1 data utk tabel user, lalu dimasukkan dalam fga_big_data.db\n",
        "Mail_u = \"fga_big_data2@python.com\"\n",
        "Password_u = \"bigdata\"\n",
        "Name_u = \"Big Data Using Python\"\n",
        "Level_u = \"1\" # 1 Admin, 0 User Non-Admin"
      ],
      "execution_count": 31,
      "outputs": []
    },
    {
      "cell_type": "code",
      "metadata": {
        "id": "Hjz8_W4WJjH2"
      },
      "source": [
        "cmd = \"insert into dataset(Name, Mobile,Date,Mail) values('{}','{}','{}','{}')\".format(Name,Mobile,Date,Mail)\n",
        "db_login.execute(cmd)\n",
        "db_login.commit()\n",
        "\n",
        "cmd2 = \"insert into user(Mail, Password,Name,Level) values('{}','{}','{}','{}')\".format(Mail_u,Password_u,Name_u,Level_u)\n",
        "db_login.execute(cmd2)\n",
        "db_login.commit()"
      ],
      "execution_count": 32,
      "outputs": []
    },
    {
      "cell_type": "markdown",
      "metadata": {
        "id": "eJG6fARCRihM"
      },
      "source": [
        "### Check Inserted Data: dataset and user\n"
      ]
    },
    {
      "cell_type": "code",
      "metadata": {
        "id": "QsaSr2oJJpz8",
        "colab": {
          "base_uri": "https://localhost:8080/",
          "height": 80
        },
        "outputId": "91dc7fb0-0418-47ab-bd30-95c8e6a2dceb"
      },
      "source": [
        "db = sqlite3.connect(\"fga_big_data.db\")\n",
        "qry = \"\"\"\n",
        "\n",
        "SELECT * FROM dataset\n",
        "\n",
        "\"\"\"\n",
        "df = pd.read_sql_query(qry, db)\n",
        "df.head()"
      ],
      "execution_count": 33,
      "outputs": [
        {
          "output_type": "execute_result",
          "data": {
            "text/html": [
              "<div>\n",
              "<style scoped>\n",
              "    .dataframe tbody tr th:only-of-type {\n",
              "        vertical-align: middle;\n",
              "    }\n",
              "\n",
              "    .dataframe tbody tr th {\n",
              "        vertical-align: top;\n",
              "    }\n",
              "\n",
              "    .dataframe thead th {\n",
              "        text-align: right;\n",
              "    }\n",
              "</style>\n",
              "<table border=\"1\" class=\"dataframe\">\n",
              "  <thead>\n",
              "    <tr style=\"text-align: right;\">\n",
              "      <th></th>\n",
              "      <th>Name</th>\n",
              "      <th>Date</th>\n",
              "      <th>Mobile</th>\n",
              "      <th>Mail</th>\n",
              "    </tr>\n",
              "  </thead>\n",
              "  <tbody>\n",
              "    <tr>\n",
              "      <th>0</th>\n",
              "      <td>Big Data Using Python</td>\n",
              "      <td>11-08-2021</td>\n",
              "      <td>5434534</td>\n",
              "      <td>fga_big_data2@python.com</td>\n",
              "    </tr>\n",
              "  </tbody>\n",
              "</table>\n",
              "</div>"
            ],
            "text/plain": [
              "                    Name        Date   Mobile                      Mail\n",
              "0  Big Data Using Python  11-08-2021  5434534  fga_big_data2@python.com"
            ]
          },
          "metadata": {
            "tags": []
          },
          "execution_count": 33
        }
      ]
    },
    {
      "cell_type": "code",
      "metadata": {
        "id": "kLlGBkZeJsSe",
        "colab": {
          "base_uri": "https://localhost:8080/",
          "height": 80
        },
        "outputId": "3c02da75-3f46-4837-b14e-0ed36835db69"
      },
      "source": [
        "db = sqlite3.connect(\"fga_big_data.db\")\n",
        "qry = \"\"\"\n",
        "\n",
        "SELECT * FROM user\n",
        "\n",
        "\"\"\"\n",
        "df = pd.read_sql_query(qry, db)\n",
        "df.head()"
      ],
      "execution_count": 34,
      "outputs": [
        {
          "output_type": "execute_result",
          "data": {
            "text/html": [
              "<div>\n",
              "<style scoped>\n",
              "    .dataframe tbody tr th:only-of-type {\n",
              "        vertical-align: middle;\n",
              "    }\n",
              "\n",
              "    .dataframe tbody tr th {\n",
              "        vertical-align: top;\n",
              "    }\n",
              "\n",
              "    .dataframe thead th {\n",
              "        text-align: right;\n",
              "    }\n",
              "</style>\n",
              "<table border=\"1\" class=\"dataframe\">\n",
              "  <thead>\n",
              "    <tr style=\"text-align: right;\">\n",
              "      <th></th>\n",
              "      <th>id</th>\n",
              "      <th>Mail</th>\n",
              "      <th>Password</th>\n",
              "      <th>Name</th>\n",
              "      <th>Level</th>\n",
              "    </tr>\n",
              "  </thead>\n",
              "  <tbody>\n",
              "    <tr>\n",
              "      <th>0</th>\n",
              "      <td>1</td>\n",
              "      <td>fga_big_data2@python.com</td>\n",
              "      <td>bigdata</td>\n",
              "      <td>Big Data Using Python</td>\n",
              "      <td>1</td>\n",
              "    </tr>\n",
              "  </tbody>\n",
              "</table>\n",
              "</div>"
            ],
            "text/plain": [
              "   id                      Mail Password                   Name Level\n",
              "0   1  fga_big_data2@python.com  bigdata  Big Data Using Python     1"
            ]
          },
          "metadata": {
            "tags": []
          },
          "execution_count": 34
        }
      ]
    },
    {
      "cell_type": "markdown",
      "metadata": {
        "id": "DRgujp1WVJ5i"
      },
      "source": [
        "### Insert Data to Table: transactions\n"
      ]
    },
    {
      "cell_type": "code",
      "metadata": {
        "id": "UYYvaXHvJQ6V"
      },
      "source": [
        "def pushCSVdatasetToDB(TransactionId,InvoiceNo,StockCode,Description,Quantity,InvoiceDate, UnitPrice,CustomerNo,Country):\n",
        "#inserting values inside the created table\n",
        "    db = sqlite3.connect(\"fga_big_data.db\")    \n",
        "    cmd = \"insert into dataset(TransactionId,InvoiceNo,StockCode,Description,Quantity,InvoiceDate, UnitPrice,CustomerNo,Country) values('{}','{}','{}','{}','{}','{}','{}','{}','{}')\".format(TransactionId,InvoiceNo,StockCode,Description,Quantity,InvoiceDate, UnitPrice,CustomerNo,Country)\n",
        "    db.execute(cmd)\n",
        "    db.commit()"
      ],
      "execution_count": 35,
      "outputs": []
    },
    {
      "cell_type": "code",
      "metadata": {
        "id": "YcK8SCDBNQN8",
        "colab": {
          "base_uri": "https://localhost:8080/"
        },
        "outputId": "7809ee90-bff4-4512-d577-3d5503789cbc"
      },
      "source": [
        "data = pd.read_csv(\"dataset_try.csv\")\n",
        "data.shape\n",
        "# data.head()"
      ],
      "execution_count": 36,
      "outputs": [
        {
          "output_type": "execute_result",
          "data": {
            "text/plain": [
              "(30, 9)"
            ]
          },
          "metadata": {
            "tags": []
          },
          "execution_count": 36
        }
      ]
    },
    {
      "cell_type": "code",
      "metadata": {
        "colab": {
          "base_uri": "https://localhost:8080/",
          "height": 204
        },
        "id": "-0OtZlHFLp3V",
        "outputId": "3c746834-a1bc-4a3d-8ec1-1e7ba0e2198b"
      },
      "source": [
        "data.head()"
      ],
      "execution_count": 37,
      "outputs": [
        {
          "output_type": "execute_result",
          "data": {
            "text/html": [
              "<div>\n",
              "<style scoped>\n",
              "    .dataframe tbody tr th:only-of-type {\n",
              "        vertical-align: middle;\n",
              "    }\n",
              "\n",
              "    .dataframe tbody tr th {\n",
              "        vertical-align: top;\n",
              "    }\n",
              "\n",
              "    .dataframe thead th {\n",
              "        text-align: right;\n",
              "    }\n",
              "</style>\n",
              "<table border=\"1\" class=\"dataframe\">\n",
              "  <thead>\n",
              "    <tr style=\"text-align: right;\">\n",
              "      <th></th>\n",
              "      <th>TransactionId</th>\n",
              "      <th>InvoiceNo</th>\n",
              "      <th>StockCode</th>\n",
              "      <th>Description</th>\n",
              "      <th>Quantity</th>\n",
              "      <th>InvoiceDate</th>\n",
              "      <th>UnitPrice</th>\n",
              "      <th>CustomerID</th>\n",
              "      <th>Country</th>\n",
              "    </tr>\n",
              "  </thead>\n",
              "  <tbody>\n",
              "    <tr>\n",
              "      <th>0</th>\n",
              "      <td>1</td>\n",
              "      <td>537215</td>\n",
              "      <td>82484</td>\n",
              "      <td>WOOD BLACK BOARD ANT WHITE FINISH</td>\n",
              "      <td>36</td>\n",
              "      <td>2010/05/12 15:38</td>\n",
              "      <td>5.55</td>\n",
              "      <td>12747</td>\n",
              "      <td>United Kingdom</td>\n",
              "    </tr>\n",
              "    <tr>\n",
              "      <th>1</th>\n",
              "      <td>2</td>\n",
              "      <td>537215</td>\n",
              "      <td>21136</td>\n",
              "      <td>PAINTED METAL PEARS ASSORTED</td>\n",
              "      <td>8</td>\n",
              "      <td>2010/05/12 15:38</td>\n",
              "      <td>1.69</td>\n",
              "      <td>12747</td>\n",
              "      <td>United Kingdom</td>\n",
              "    </tr>\n",
              "    <tr>\n",
              "      <th>2</th>\n",
              "      <td>3</td>\n",
              "      <td>545321</td>\n",
              "      <td>20711</td>\n",
              "      <td>JUMBO BAG TOYS</td>\n",
              "      <td>20</td>\n",
              "      <td>2011/01/03 14:53</td>\n",
              "      <td>1.95</td>\n",
              "      <td>12747</td>\n",
              "      <td>United Kingdom</td>\n",
              "    </tr>\n",
              "    <tr>\n",
              "      <th>3</th>\n",
              "      <td>4</td>\n",
              "      <td>537225</td>\n",
              "      <td>51008</td>\n",
              "      <td>AFGHAN SLIPPER SOCK PAIR</td>\n",
              "      <td>10</td>\n",
              "      <td>2010/05/12 16:41</td>\n",
              "      <td>3.45</td>\n",
              "      <td>12748</td>\n",
              "      <td>United Kingdom</td>\n",
              "    </tr>\n",
              "    <tr>\n",
              "      <th>4</th>\n",
              "      <td>5</td>\n",
              "      <td>537354</td>\n",
              "      <td>85099B</td>\n",
              "      <td>JUMBO BAG RED RETROSPOT</td>\n",
              "      <td>6</td>\n",
              "      <td>2010/06/12 12:23</td>\n",
              "      <td>1.95</td>\n",
              "      <td>12748</td>\n",
              "      <td>United Kingdom</td>\n",
              "    </tr>\n",
              "  </tbody>\n",
              "</table>\n",
              "</div>"
            ],
            "text/plain": [
              "   TransactionId  InvoiceNo StockCode  ... UnitPrice  CustomerID         Country\n",
              "0              1     537215     82484  ...      5.55       12747  United Kingdom\n",
              "1              2     537215     21136  ...      1.69       12747  United Kingdom\n",
              "2              3     545321     20711  ...      1.95       12747  United Kingdom\n",
              "3              4     537225     51008  ...      3.45       12748  United Kingdom\n",
              "4              5     537354    85099B  ...      1.95       12748  United Kingdom\n",
              "\n",
              "[5 rows x 9 columns]"
            ]
          },
          "metadata": {
            "tags": []
          },
          "execution_count": 37
        }
      ]
    }
  ]
}