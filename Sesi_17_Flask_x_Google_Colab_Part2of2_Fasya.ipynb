{
  "nbformat": 4,
  "nbformat_minor": 0,
  "metadata": {
    "colab": {
      "name": "Sesi_17_Flask_x_Google_Colab_Part2of2_Fasya.ipynb",
      "provenance": [],
      "collapsed_sections": []
    },
    "kernelspec": {
      "display_name": "Python 3",
      "language": "python",
      "name": "python3"
    },
    "language_info": {
      "codemirror_mode": {
        "name": "ipython",
        "version": 3
      },
      "file_extension": ".py",
      "mimetype": "text/x-python",
      "name": "python",
      "nbconvert_exporter": "python",
      "pygments_lexer": "ipython3",
      "version": "3.9.4"
    }
  },
  "cells": [
    {
      "cell_type": "markdown",
      "metadata": {
        "id": "2H0uhH1X3oL9"
      },
      "source": [
        "![]( https://docs.google.com/uc?export=download&id=1oKIi5t0GlSKAoPTIt1f-DcOu0GcYHDD4)"
      ]
    },
    {
      "cell_type": "code",
      "metadata": {
        "colab": {
          "base_uri": "https://localhost:8080/"
        },
        "id": "J3EInPeD3rW4",
        "outputId": "11d384d1-c867-47c7-af19-7ef67f238fb0"
      },
      "source": [
        "# FGA Big Data Using Python Kelas B \n",
        "# =====================================================================\n",
        "# Kolaborasi Instruktur FILKOM x FMIPA UB 2021\n",
        "# Di Bawah Naungan Kominfo Pusat x Cisco\n",
        "# =====================================================================\n",
        "# Instruktur: Imam Cholissodin, S.Si., M.Kom. \n",
        "# Asisten: Yonas Asmara\n",
        "\n",
        "from google.colab import drive\n",
        "drive.mount('/content/drive')"
      ],
      "execution_count": 1,
      "outputs": [
        {
          "output_type": "stream",
          "text": [
            "Mounted at /content/drive\n"
          ],
          "name": "stdout"
        }
      ]
    },
    {
      "cell_type": "code",
      "metadata": {
        "id": "IBzybd-73_Go",
        "colab": {
          "base_uri": "https://localhost:8080/"
        },
        "outputId": "97ff4fc9-b502-4cb1-903e-06adc3c291bc"
      },
      "source": [
        "import os\n",
        "os.chdir(\"/content/drive/My Drive\")\n",
        "path = \"Cisco Big Data Using Python 2021/FGA Big Data Using Python - Kelas B - utk Peserta/Sesi 1 - 25 Python\"\n",
        "if not os.path.exists(path):\n",
        "    os.makedirs(path)\n",
        "os.chdir(\"/content/drive/My Drive/Cisco Big Data Using Python 2021/FGA Big Data Using Python - Kelas B - utk Peserta/Sesi 1 - 25 Python\")\n",
        "if not os.path.exists(\"images\"):\n",
        "  !wget --load-cookies /tmp/cookies.txt \"https://docs.google.com/uc?export=download&confirm=$(wget --quiet --save-cookies /tmp/cookies.txt --keep-session-cookies --no-check-certificate 'https://docs.google.com/uc?export=download&id=1-A9hoqmtpKWBAu_QjyqUxpcuBXkJ-Gk8' -O- | sed -rn 's/.*confirm=([0-9A-Za-z_]+).*/\\1\\n/p')&id=1-A9hoqmtpKWBAu_QjyqUxpcuBXkJ-Gk8\" -O 'images.tar' && rm -rf /tmp/cookies.txt\n",
        "  !tar -xv -C './' -f './images.tar'\n",
        "\n",
        "!pwd\n",
        "!ls -l -a --block-size=K"
      ],
      "execution_count": 2,
      "outputs": [
        {
          "output_type": "stream",
          "text": [
            "/content/drive/My Drive/Cisco Big Data Using Python 2021/FGA Big Data Using Python - Kelas B - utk Peserta/Sesi 1 - 25 Python\n",
            "total 728K\n",
            "-rw------- 1 root root   1K Jul 23 01:59 aritmatika.py\n",
            "-rw------- 1 root root   1K Aug  6 02:02 Data_Generate_Reg.csv\n",
            "drwx------ 2 root root   4K Aug 11 22:30 flask-sqlite\n",
            "drwx------ 2 root root   4K Jul 20 09:59 images\n",
            "-rw------- 1 root root 570K Jul 23 01:19 images.tar\n",
            "drwx------ 2 root root   4K Jul 23 02:05 LATIHAN_PYTHON\n",
            "drwx------ 2 root root   4K Jul 23 01:52 __pycache__\n",
            "-rw------- 1 root root 141K Aug  9 02:16 PySpark_SOM_by_Imam_Cholissodin_On_Colab.ipynb\n"
          ],
          "name": "stdout"
        }
      ]
    },
    {
      "cell_type": "code",
      "metadata": {
        "id": "_W4or3hcb51s"
      },
      "source": [
        "os.chdir(\"/content/drive/My Drive/Cisco Big Data Using Python 2021/FGA Big Data Using Python - Kelas B - utk Peserta/Sesi 1 - 25 Python/flask-sqlite/flask-sqlite-login\")"
      ],
      "execution_count": 3,
      "outputs": []
    },
    {
      "cell_type": "code",
      "metadata": {
        "colab": {
          "base_uri": "https://localhost:8080/"
        },
        "id": "n_m4oJ3LB4UL",
        "outputId": "9c7d6506-5c72-4b16-a1da-3ad6369989ce"
      },
      "source": [
        "!pwd"
      ],
      "execution_count": null,
      "outputs": [
        {
          "output_type": "stream",
          "text": [
            "/content/drive/My Drive/Cisco Big Data Using Python 2021/FGA Big Data Using Python - Kelas B - utk Peserta/Sesi 1 - 25 Python/flask-sqlite/flask-sqlite-login\n"
          ],
          "name": "stdout"
        }
      ]
    },
    {
      "cell_type": "code",
      "metadata": {
        "id": "NUbm7_CFlyVL",
        "colab": {
          "base_uri": "https://localhost:8080/"
        },
        "outputId": "1d9f7639-141b-48b0-85d8-b9913e319d8a"
      },
      "source": [
        "!pip install flask-ngrok\n",
        "!pip install flask==0.12.2  # Newer versions of flask don't work in Colab\n",
        "                            # See https://github.com/plotly/dash/issues/257\n",
        "\n",
        "# !pip install flask\n",
        "!pip install SQLAlchemy\n",
        "!pip install Flask-SQLAlchemy"
      ],
      "execution_count": 4,
      "outputs": [
        {
          "output_type": "stream",
          "text": [
            "Collecting flask-ngrok\n",
            "  Downloading flask_ngrok-0.0.25-py3-none-any.whl (3.1 kB)\n",
            "Requirement already satisfied: Flask>=0.8 in /usr/local/lib/python3.7/dist-packages (from flask-ngrok) (1.1.4)\n",
            "Requirement already satisfied: requests in /usr/local/lib/python3.7/dist-packages (from flask-ngrok) (2.23.0)\n",
            "Requirement already satisfied: Jinja2<3.0,>=2.10.1 in /usr/local/lib/python3.7/dist-packages (from Flask>=0.8->flask-ngrok) (2.11.3)\n",
            "Requirement already satisfied: Werkzeug<2.0,>=0.15 in /usr/local/lib/python3.7/dist-packages (from Flask>=0.8->flask-ngrok) (1.0.1)\n",
            "Requirement already satisfied: itsdangerous<2.0,>=0.24 in /usr/local/lib/python3.7/dist-packages (from Flask>=0.8->flask-ngrok) (1.1.0)\n",
            "Requirement already satisfied: click<8.0,>=5.1 in /usr/local/lib/python3.7/dist-packages (from Flask>=0.8->flask-ngrok) (7.1.2)\n",
            "Requirement already satisfied: MarkupSafe>=0.23 in /usr/local/lib/python3.7/dist-packages (from Jinja2<3.0,>=2.10.1->Flask>=0.8->flask-ngrok) (2.0.1)\n",
            "Requirement already satisfied: urllib3!=1.25.0,!=1.25.1,<1.26,>=1.21.1 in /usr/local/lib/python3.7/dist-packages (from requests->flask-ngrok) (1.24.3)\n",
            "Requirement already satisfied: chardet<4,>=3.0.2 in /usr/local/lib/python3.7/dist-packages (from requests->flask-ngrok) (3.0.4)\n",
            "Requirement already satisfied: certifi>=2017.4.17 in /usr/local/lib/python3.7/dist-packages (from requests->flask-ngrok) (2021.5.30)\n",
            "Requirement already satisfied: idna<3,>=2.5 in /usr/local/lib/python3.7/dist-packages (from requests->flask-ngrok) (2.10)\n",
            "Installing collected packages: flask-ngrok\n",
            "Successfully installed flask-ngrok-0.0.25\n",
            "Collecting flask==0.12.2\n",
            "  Downloading Flask-0.12.2-py2.py3-none-any.whl (83 kB)\n",
            "\u001b[K     |████████████████████████████████| 83 kB 953 kB/s \n",
            "\u001b[?25hRequirement already satisfied: Werkzeug>=0.7 in /usr/local/lib/python3.7/dist-packages (from flask==0.12.2) (1.0.1)\n",
            "Requirement already satisfied: Jinja2>=2.4 in /usr/local/lib/python3.7/dist-packages (from flask==0.12.2) (2.11.3)\n",
            "Requirement already satisfied: click>=2.0 in /usr/local/lib/python3.7/dist-packages (from flask==0.12.2) (7.1.2)\n",
            "Requirement already satisfied: itsdangerous>=0.21 in /usr/local/lib/python3.7/dist-packages (from flask==0.12.2) (1.1.0)\n",
            "Requirement already satisfied: MarkupSafe>=0.23 in /usr/local/lib/python3.7/dist-packages (from Jinja2>=2.4->flask==0.12.2) (2.0.1)\n",
            "Installing collected packages: flask\n",
            "  Attempting uninstall: flask\n",
            "    Found existing installation: Flask 1.1.4\n",
            "    Uninstalling Flask-1.1.4:\n",
            "      Successfully uninstalled Flask-1.1.4\n",
            "Successfully installed flask-0.12.2\n",
            "Requirement already satisfied: SQLAlchemy in /usr/local/lib/python3.7/dist-packages (1.4.22)\n",
            "Requirement already satisfied: greenlet!=0.4.17 in /usr/local/lib/python3.7/dist-packages (from SQLAlchemy) (1.1.1)\n",
            "Requirement already satisfied: importlib-metadata in /usr/local/lib/python3.7/dist-packages (from SQLAlchemy) (4.6.3)\n",
            "Requirement already satisfied: zipp>=0.5 in /usr/local/lib/python3.7/dist-packages (from importlib-metadata->SQLAlchemy) (3.5.0)\n",
            "Requirement already satisfied: typing-extensions>=3.6.4 in /usr/local/lib/python3.7/dist-packages (from importlib-metadata->SQLAlchemy) (3.7.4.3)\n",
            "Collecting Flask-SQLAlchemy\n",
            "  Downloading Flask_SQLAlchemy-2.5.1-py2.py3-none-any.whl (17 kB)\n",
            "Requirement already satisfied: SQLAlchemy>=0.8.0 in /usr/local/lib/python3.7/dist-packages (from Flask-SQLAlchemy) (1.4.22)\n",
            "Requirement already satisfied: Flask>=0.10 in /usr/local/lib/python3.7/dist-packages (from Flask-SQLAlchemy) (0.12.2)\n",
            "Requirement already satisfied: click>=2.0 in /usr/local/lib/python3.7/dist-packages (from Flask>=0.10->Flask-SQLAlchemy) (7.1.2)\n",
            "Requirement already satisfied: Werkzeug>=0.7 in /usr/local/lib/python3.7/dist-packages (from Flask>=0.10->Flask-SQLAlchemy) (1.0.1)\n",
            "Requirement already satisfied: itsdangerous>=0.21 in /usr/local/lib/python3.7/dist-packages (from Flask>=0.10->Flask-SQLAlchemy) (1.1.0)\n",
            "Requirement already satisfied: Jinja2>=2.4 in /usr/local/lib/python3.7/dist-packages (from Flask>=0.10->Flask-SQLAlchemy) (2.11.3)\n",
            "Requirement already satisfied: MarkupSafe>=0.23 in /usr/local/lib/python3.7/dist-packages (from Jinja2>=2.4->Flask>=0.10->Flask-SQLAlchemy) (2.0.1)\n",
            "Requirement already satisfied: greenlet!=0.4.17 in /usr/local/lib/python3.7/dist-packages (from SQLAlchemy>=0.8.0->Flask-SQLAlchemy) (1.1.1)\n",
            "Requirement already satisfied: importlib-metadata in /usr/local/lib/python3.7/dist-packages (from SQLAlchemy>=0.8.0->Flask-SQLAlchemy) (4.6.3)\n",
            "Requirement already satisfied: typing-extensions>=3.6.4 in /usr/local/lib/python3.7/dist-packages (from importlib-metadata->SQLAlchemy>=0.8.0->Flask-SQLAlchemy) (3.7.4.3)\n",
            "Requirement already satisfied: zipp>=0.5 in /usr/local/lib/python3.7/dist-packages (from importlib-metadata->SQLAlchemy>=0.8.0->Flask-SQLAlchemy) (3.5.0)\n",
            "Installing collected packages: Flask-SQLAlchemy\n",
            "Successfully installed Flask-SQLAlchemy-2.5.1\n"
          ],
          "name": "stdout"
        }
      ]
    },
    {
      "cell_type": "code",
      "metadata": {
        "id": "x9GtwGkoauel",
        "colab": {
          "base_uri": "https://localhost:8080/"
        },
        "outputId": "65d82b74-5b44-4b1c-ecff-3d0fbceb1a0d"
      },
      "source": [
        "# flask_ngrok_example.py\n",
        "from flask import Flask,render_template,flash, redirect,url_for,session,logging,request\n",
        "from flask_sqlalchemy import SQLAlchemy\n",
        "from flask_ngrok import run_with_ngrok\n",
        "\n",
        "# !pip install SQLAlchemy\n",
        "# !pip install Flask-SQLAlchemy\n",
        "\n",
        "# app = Flask(__name__)\n",
        "# app = Flask(__name__, static_url_path='/static')\n",
        "app = Flask(__name__, static_folder='static')\n",
        "run_with_ngrok(app)  # Start ngrok when app is run\n",
        "\n",
        "# app = Flask(__name__)\n",
        "app.config['SQLALCHEMY_DATABASE_URI'] = 'sqlite:////fga_big_data.db'\n",
        "db = SQLAlchemy(app)\n",
        "\n",
        "class user(db.Model):\n",
        "  # __tablename__ = 'user'\n",
        "  id = db.Column(db.Integer, primary_key=True)\n",
        "  # Mail \tPassword \tName \tLevel\n",
        "  Mail = db.Column(db.Text) # sbg Username\n",
        "  Password = db.Column(db.Text)\n",
        "  Name = db.Column(db.Text)\n",
        "  Level = db.Column(db.Text)\n",
        "\n",
        "  # username = Mail\n",
        "  # password = Password\n",
        "\n",
        "@app.route(\"/\")\n",
        "def index():\n",
        "  return render_template(\"index.html\")\n",
        "\n",
        "@app.route(\"/login\",methods=[\"GET\", \"POST\"])\n",
        "def login():\n",
        "  msg = \"\"\n",
        "  if request.method == \"POST\":\n",
        "    mail = request.form[\"mail\"]\n",
        "    passw = request.form[\"passw\"]\n",
        "    login = user.query.filter_by(Mail=mail, Password=passw).first()\n",
        "    print(login)\n",
        "    if login is not None:\n",
        "      return redirect(url_for(\"bigdataApps\"))\n",
        "    elif login is None:\n",
        "      msg = \"Masukkan Username (Email) dan Password dgn Benar\"\n",
        "      print(msg)\n",
        "  return render_template(\"login.html\", msg = msg)\n",
        "\n",
        "@app.route(\"/register\", methods=[\"GET\", \"POST\"])\n",
        "def register():\n",
        "  if request.method == \"POST\":\n",
        "    mail = request.form['mail']\n",
        "    uname = request.form['uname']\n",
        "    passw = request.form['passw']\n",
        "    register = user(Mail = mail, Name = uname, Password = passw)\n",
        "    db.session.add(register)\n",
        "    db.session.commit()\n",
        "    return redirect(url_for(\"login\"))\n",
        "    \n",
        "  return render_template(\"register.html\")\n",
        "\n",
        "@app.route(\"/bigdataApps\", methods=[\"GET\", \"POST\"])\n",
        "def bigdataApps():\n",
        "  if request.method == 'POST':\n",
        "    import pandas as pd\n",
        "    import numpy as np\n",
        "    dataset = request.FILES['inputDataset']\n",
        "    # dataset = request.files['inputDataset']\n",
        "    #dataset = 'dataset_dump.csv'\n",
        "\n",
        "    persentase_data_training = 90\n",
        "    banyak_fitur = int(request.POST['banyakFitur'])\n",
        "    banyak_hidden_neuron = int(request.POST['banyakHiddenNeuron'])\n",
        "    dataset = pd.read_csv(dataset, delimiter=';', names = ['Tanggal', 'Harga'], usecols=['Harga'])\n",
        "    minimum = int(dataset.min()-10000)\n",
        "    maksimum = int(dataset.max()+10000)\n",
        "    new_banyak_fitur = banyak_fitur + 1\n",
        "    hasil_fitur = []\n",
        "    for i in range((len(dataset)-new_banyak_fitur)+1):\n",
        "      kolom = []\n",
        "      j = i\n",
        "      while j < (i+new_banyak_fitur):\n",
        "        kolom.append(dataset.values[j][0])\n",
        "        j += 1\n",
        "      hasil_fitur.append(kolom)\n",
        "    hasil_fitur = np.array(hasil_fitur)\n",
        "    data_normalisasi = (hasil_fitur - minimum)/(maksimum - minimum)\n",
        "    data_training = data_normalisasi[:int(persentase_data_training*len(data_normalisasi)/100)]\n",
        "    data_testing = data_normalisasi[int(persentase_data_training*len(data_normalisasi)/100):]\n",
        "    \n",
        "    #Training\n",
        "    bobot = np.random.rand(banyak_hidden_neuron, banyak_fitur)\n",
        "    bias = np.random.rand(banyak_hidden_neuron)\n",
        "    h = 1/(1 + np.exp(-(np.dot(data_training[:, :banyak_fitur], np.transpose(bobot)) + bias)))\n",
        "    h_plus = np.dot(np.linalg.inv(np.dot(np.transpose(h),h)),np.transpose(h))\n",
        "    output_weight = np.dot(h_plus, data_training[:, banyak_fitur])\n",
        "    \n",
        "    #Testing\n",
        "    h = 1/(1 + np.exp(-(np.dot(data_testing[:, :banyak_fitur], np.transpose(bobot)) + bias)))\n",
        "    predict = np.dot(h, output_weight)\n",
        "    predict = predict * (maksimum - minimum) + minimum\n",
        "    \n",
        "    #MAPE\n",
        "    aktual = np.array(hasil_fitur[int(persentase_data_training*len(data_normalisasi)/100):, banyak_fitur])\n",
        "    mape = np.sum(np.abs(((aktual - predict)/aktual)*100))/len(predict)\n",
        "    return render_template('bigdataApps.html', {\n",
        "        'y_aktual' : list(aktual),\n",
        "        'y_prediksi' : list(predict),\n",
        "        'mape' : mape\n",
        "        })\n",
        "  else:\n",
        "    return render_template('bigdataApps.html')\n",
        "\n",
        "@app.route(\"/logout\")\n",
        "def logout():\n",
        "  session = None\n",
        "  return redirect(\"/\")\n",
        "\n",
        "if __name__ == '__main__':\n",
        "  db.create_all()\n",
        "  app.run()\n",
        "  # If address is in use, may need to terminate other sessions:\n",
        "  # Runtime > Manage Sessions > Terminate Other Sessions  "
      ],
      "execution_count": 7,
      "outputs": [
        {
          "output_type": "stream",
          "text": [
            "/usr/local/lib/python3.7/dist-packages/flask_sqlalchemy/__init__.py:873: FSADeprecationWarning: SQLALCHEMY_TRACK_MODIFICATIONS adds significant overhead and will be disabled by default in the future.  Set it to True or False to suppress this warning.\n",
            "  'SQLALCHEMY_TRACK_MODIFICATIONS adds significant overhead and '\n",
            " * Running on http://127.0.0.1:5000/ (Press CTRL+C to quit)\n"
          ],
          "name": "stderr"
        },
        {
          "output_type": "stream",
          "text": [
            " * Running on http://dee407af8867.ngrok.io\n",
            " * Traffic stats available on http://127.0.0.1:4040\n"
          ],
          "name": "stdout"
        },
        {
          "output_type": "stream",
          "text": [
            "127.0.0.1 - - [15/Aug/2021 15:09:12] \"\u001b[37mGET / HTTP/1.1\u001b[0m\" 200 -\n",
            "127.0.0.1 - - [15/Aug/2021 15:09:13] \"\u001b[37mGET /static/css/button2.css HTTP/1.1\u001b[0m\" 200 -\n",
            "127.0.0.1 - - [15/Aug/2021 15:09:15] \"\u001b[33mGET /favicon.ico HTTP/1.1\u001b[0m\" 404 -\n",
            "127.0.0.1 - - [15/Aug/2021 15:09:17] \"\u001b[37mGET /login HTTP/1.1\u001b[0m\" 200 -\n",
            "127.0.0.1 - - [15/Aug/2021 15:09:17] \"\u001b[37mGET /static/css/main.css HTTP/1.1\u001b[0m\" 200 -\n",
            "127.0.0.1 - - [15/Aug/2021 15:09:17] \"\u001b[37mGET /static/css/font-awesome.min.css HTTP/1.1\u001b[0m\" 200 -\n",
            "127.0.0.1 - - [15/Aug/2021 15:09:17] \"\u001b[37mGET /static/css/util.css HTTP/1.1\u001b[0m\" 200 -\n",
            "127.0.0.1 - - [15/Aug/2021 15:09:17] \"\u001b[37mGET /static/css/material-design-iconic-font.min.css HTTP/1.1\u001b[0m\" 200 -\n",
            "127.0.0.1 - - [15/Aug/2021 15:09:17] \"\u001b[37mGET /static/css/font-awesome.css HTTP/1.1\u001b[0m\" 200 -\n",
            "127.0.0.1 - - [15/Aug/2021 15:09:17] \"\u001b[37mGET /static/css/bootstrap.min.css HTTP/1.1\u001b[0m\" 200 -\n",
            "127.0.0.1 - - [15/Aug/2021 15:09:18] \"\u001b[37mGET /static/css/animate2.css HTTP/1.1\u001b[0m\" 200 -\n",
            "127.0.0.1 - - [15/Aug/2021 15:09:19] \"\u001b[37mGET /static/css/hamburgers.min.css HTTP/1.1\u001b[0m\" 200 -\n",
            "127.0.0.1 - - [15/Aug/2021 15:09:19] \"\u001b[33mGET /static/css/animsition.min.css HTTP/1.1\u001b[0m\" 404 -\n",
            "127.0.0.1 - - [15/Aug/2021 15:09:19] \"\u001b[37mGET /static/css/select2.min.css HTTP/1.1\u001b[0m\" 200 -\n",
            "127.0.0.1 - - [15/Aug/2021 15:09:19] \"\u001b[33mGET /static/css/font-daterangepicker.css HTTP/1.1\u001b[0m\" 404 -\n",
            "127.0.0.1 - - [15/Aug/2021 15:09:19] \"\u001b[37mGET /static/js/jquery-3.2.1.min.js HTTP/1.1\u001b[0m\" 200 -\n",
            "127.0.0.1 - - [15/Aug/2021 15:09:19] \"\u001b[37mGET /static/js/animsition.min.js HTTP/1.1\u001b[0m\" 200 -\n",
            "127.0.0.1 - - [15/Aug/2021 15:09:19] \"\u001b[37mGET /static/js/popper.js HTTP/1.1\u001b[0m\" 200 -\n",
            "127.0.0.1 - - [15/Aug/2021 15:09:19] \"\u001b[37mGET /static/js/bootstrap.min.js HTTP/1.1\u001b[0m\" 200 -\n",
            "127.0.0.1 - - [15/Aug/2021 15:09:20] \"\u001b[37mGET /static/js/select2.min.js HTTP/1.1\u001b[0m\" 200 -\n",
            "127.0.0.1 - - [15/Aug/2021 15:09:20] \"\u001b[37mGET /static/js/moment.min.js HTTP/1.1\u001b[0m\" 200 -\n",
            "127.0.0.1 - - [15/Aug/2021 15:09:20] \"\u001b[33mGET /static/fonts/poppins/Poppins-Medium.ttf HTTP/1.1\u001b[0m\" 404 -\n",
            "127.0.0.1 - - [15/Aug/2021 15:09:21] \"\u001b[33mGET /static/fonts/poppins/Poppins-Regular.ttf HTTP/1.1\u001b[0m\" 404 -\n",
            "127.0.0.1 - - [15/Aug/2021 15:09:21] \"\u001b[37mGET /static/js/daterangepicker.js HTTP/1.1\u001b[0m\" 200 -\n",
            "127.0.0.1 - - [15/Aug/2021 15:09:21] \"\u001b[37mGET /static/js/countdowntime.js HTTP/1.1\u001b[0m\" 200 -\n",
            "127.0.0.1 - - [15/Aug/2021 15:09:21] \"\u001b[37mGET /static/js/main.js HTTP/1.1\u001b[0m\" 200 -\n",
            "127.0.0.1 - - [15/Aug/2021 15:09:21] \"\u001b[37mGET /static/img/bg-01.jpg HTTP/1.1\u001b[0m\" 200 -\n",
            "127.0.0.1 - - [15/Aug/2021 15:09:27] \"\u001b[32mPOST /login HTTP/1.1\u001b[0m\" 302 -\n"
          ],
          "name": "stderr"
        },
        {
          "output_type": "stream",
          "text": [
            "<user 1>\n"
          ],
          "name": "stdout"
        },
        {
          "output_type": "stream",
          "text": [
            "127.0.0.1 - - [15/Aug/2021 15:09:28] \"\u001b[37mGET /bigdataApps HTTP/1.1\u001b[0m\" 200 -\n",
            "127.0.0.1 - - [15/Aug/2021 15:09:29] \"\u001b[37mGET /static/css/chartist-plugin-tooltip.css HTTP/1.1\u001b[0m\" 200 -\n",
            "127.0.0.1 - - [15/Aug/2021 15:09:29] \"\u001b[37mGET /static/css/morris.css HTTP/1.1\u001b[0m\" 200 -\n",
            "127.0.0.1 - - [15/Aug/2021 15:09:29] \"\u001b[37mGET /static/css/chartist.min.css HTTP/1.1\u001b[0m\" 200 -\n",
            "127.0.0.1 - - [15/Aug/2021 15:09:29] \"\u001b[37mGET /static/css/sidebar-nav.min.css HTTP/1.1\u001b[0m\" 200 -\n",
            "127.0.0.1 - - [15/Aug/2021 15:09:29] \"\u001b[37mGET /static/css/jquery.toast.css HTTP/1.1\u001b[0m\" 200 -\n",
            "127.0.0.1 - - [15/Aug/2021 15:09:29] \"\u001b[37mGET /static/css/fullcalendar.css HTTP/1.1\u001b[0m\" 200 -\n",
            "127.0.0.1 - - [15/Aug/2021 15:09:29] \"\u001b[37mGET /static/css/animate.css HTTP/1.1\u001b[0m\" 200 -\n",
            "127.0.0.1 - - [15/Aug/2021 15:09:29] \"\u001b[37mGET /static/css/style.css HTTP/1.1\u001b[0m\" 200 -\n",
            "127.0.0.1 - - [15/Aug/2021 15:09:29] \"\u001b[37mGET /static/css/spinners.css HTTP/1.1\u001b[0m\" 200 -\n",
            "127.0.0.1 - - [15/Aug/2021 15:09:29] \"\u001b[37mGET /static/css/blue-dark.css HTTP/1.1\u001b[0m\" 200 -\n",
            "127.0.0.1 - - [15/Aug/2021 15:09:30] \"\u001b[37mGET /static/js/jquery.min.js HTTP/1.1\u001b[0m\" 200 -\n",
            "127.0.0.1 - - [15/Aug/2021 15:09:30] \"\u001b[37mGET /static/js/jquery.sparkline.min.js HTTP/1.1\u001b[0m\" 200 -\n",
            "127.0.0.1 - - [15/Aug/2021 15:09:30] \"\u001b[37mGET /static/js/script.js HTTP/1.1\u001b[0m\" 200 -\n",
            "127.0.0.1 - - [15/Aug/2021 15:09:30] \"\u001b[37mGET /static/js/sidebar-nav.min.js HTTP/1.1\u001b[0m\" 200 -\n",
            "127.0.0.1 - - [15/Aug/2021 15:09:31] \"\u001b[37mGET /static/js/jquery.slimscroll.js HTTP/1.1\u001b[0m\" 200 -\n",
            "127.0.0.1 - - [15/Aug/2021 15:09:31] \"\u001b[37mGET /static/js/waves.js HTTP/1.1\u001b[0m\" 200 -\n",
            "127.0.0.1 - - [15/Aug/2021 15:09:31] \"\u001b[37mGET /static/js/raphael-min.js HTTP/1.1\u001b[0m\" 200 -\n",
            "127.0.0.1 - - [15/Aug/2021 15:09:31] \"\u001b[37mGET /static/js/morris.js HTTP/1.1\u001b[0m\" 200 -\n",
            "127.0.0.1 - - [15/Aug/2021 15:09:31] \"\u001b[37mGET /static/js/chartist.min.js HTTP/1.1\u001b[0m\" 200 -\n",
            "127.0.0.1 - - [15/Aug/2021 15:09:31] \"\u001b[37mGET /static/js/chartist-plugin-tooltip.min.js HTTP/1.1\u001b[0m\" 200 -\n",
            "127.0.0.1 - - [15/Aug/2021 15:09:31] \"\u001b[37mGET /static/css/icons/font-awesome/css/fontawesome-all.css HTTP/1.1\u001b[0m\" 200 -\n",
            "127.0.0.1 - - [15/Aug/2021 15:09:32] \"\u001b[37mGET /static/css/icons/themify-icons/themify-icons.css HTTP/1.1\u001b[0m\" 200 -\n",
            "127.0.0.1 - - [15/Aug/2021 15:09:32] \"\u001b[37mGET /static/css/icons/simple-line-icons/css/simple-line-icons.css HTTP/1.1\u001b[0m\" 200 -\n",
            "127.0.0.1 - - [15/Aug/2021 15:09:33] \"\u001b[37mGET /static/css/icons/weather-icons/css/weather-icons.min.css HTTP/1.1\u001b[0m\" 200 -\n",
            "127.0.0.1 - - [15/Aug/2021 15:09:33] \"\u001b[37mGET /static/css/icons/linea-icons/linea.css HTTP/1.1\u001b[0m\" 200 -\n",
            "127.0.0.1 - - [15/Aug/2021 15:09:33] \"\u001b[37mGET /static/css/icons/material-design-iconic-font/css/materialdesignicons.min.css HTTP/1.1\u001b[0m\" 200 -\n",
            "127.0.0.1 - - [15/Aug/2021 15:09:33] \"\u001b[37mGET /static/js/moment.js HTTP/1.1\u001b[0m\" 200 -\n",
            "127.0.0.1 - - [15/Aug/2021 15:09:33] \"\u001b[37mGET /static/js/fullcalendar.min.js HTTP/1.1\u001b[0m\" 200 -\n",
            "127.0.0.1 - - [15/Aug/2021 15:09:33] \"\u001b[37mGET /static/js/cal-init.js HTTP/1.1\u001b[0m\" 200 -\n",
            "127.0.0.1 - - [15/Aug/2021 15:09:34] \"\u001b[37mGET /static/js/custom.min.js HTTP/1.1\u001b[0m\" 200 -\n",
            "127.0.0.1 - - [15/Aug/2021 15:09:34] \"\u001b[37mGET /static/js/dashboard1.js HTTP/1.1\u001b[0m\" 200 -\n",
            "127.0.0.1 - - [15/Aug/2021 15:09:34] \"\u001b[37mGET /static/js/cbpFWTabs.js HTTP/1.1\u001b[0m\" 200 -\n",
            "127.0.0.1 - - [15/Aug/2021 15:09:34] \"\u001b[37mGET /static/js/jquery.toast.js HTTP/1.1\u001b[0m\" 200 -\n",
            "127.0.0.1 - - [15/Aug/2021 15:09:35] \"\u001b[37mGET /static/css/icons/material-design-iconic-font/fonts/materialdesignicons-webfont.woff2?v=1.8.36 HTTP/1.1\u001b[0m\" 200 -\n",
            "127.0.0.1 - - [15/Aug/2021 15:09:35] \"\u001b[37mGET /static/css/icons/font-awesome/webfonts/fa-solid-900.woff2 HTTP/1.1\u001b[0m\" 200 -\n",
            "127.0.0.1 - - [15/Aug/2021 15:09:35] \"\u001b[37mGET /static/css/icons/themify-icons/fonts/themify.woff?-fvbane HTTP/1.1\u001b[0m\" 200 -\n",
            "127.0.0.1 - - [15/Aug/2021 15:09:35] \"\u001b[37mGET /static/img/filkom1.png HTTP/1.1\u001b[0m\" 200 -\n",
            "127.0.0.1 - - [15/Aug/2021 15:09:35] \"\u001b[37mGET /static/img/ub.png HTTP/1.1\u001b[0m\" 200 -\n",
            "127.0.0.1 - - [15/Aug/2021 15:09:36] \"\u001b[37mGET /static/img/guest.png HTTP/1.1\u001b[0m\" 200 -\n",
            "127.0.0.1 - - [15/Aug/2021 15:09:36] \"\u001b[37mGET /static/js/jQuery.style.switcher.js HTTP/1.1\u001b[0m\" 200 -\n",
            "127.0.0.1 - - [15/Aug/2021 15:09:36] \"\u001b[37mGET /static/js/jasny-bootstrap.js HTTP/1.1\u001b[0m\" 200 -\n",
            "127.0.0.1 - - [15/Aug/2021 15:09:36] \"\u001b[37mGET /static/js/highcharts.js HTTP/1.1\u001b[0m\" 200 -\n",
            "127.0.0.1 - - [15/Aug/2021 15:09:36] \"\u001b[33mGET /plugins/images/users/pawandeep.jpg HTTP/1.1\u001b[0m\" 404 -\n",
            "127.0.0.1 - - [15/Aug/2021 15:09:37] \"\u001b[33mGET /plugins/images/users/sonu.jpg HTTP/1.1\u001b[0m\" 404 -\n",
            "127.0.0.1 - - [15/Aug/2021 15:09:37] \"\u001b[33mGET /plugins/images/users/arijit.jpg HTTP/1.1\u001b[0m\" 404 -\n",
            "127.0.0.1 - - [15/Aug/2021 15:09:46] \"\u001b[32mGET /logout HTTP/1.1\u001b[0m\" 302 -\n",
            "127.0.0.1 - - [15/Aug/2021 15:09:47] \"\u001b[37mGET / HTTP/1.1\u001b[0m\" 200 -\n"
          ],
          "name": "stderr"
        }
      ]
    },
    {
      "cell_type": "code",
      "metadata": {
        "id": "rbiIvhydMzwl"
      },
      "source": [
        "@app.route(\"/logout\")\n",
        "def logout():\n",
        "  session = None\n",
        "  return redirect(\"/\")"
      ],
      "execution_count": null,
      "outputs": []
    }
  ]
}